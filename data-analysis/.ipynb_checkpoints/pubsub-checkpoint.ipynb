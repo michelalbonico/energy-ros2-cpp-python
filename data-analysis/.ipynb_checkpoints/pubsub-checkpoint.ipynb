{
 "cells": [
  {
   "cell_type": "raw",
   "id": "6a27840f-ef09-46cb-a618-24482d9c4dc4",
   "metadata": {},
   "source": [
    "Notebook with all the data analysis (including graphs) for pub/sub algorith."
   ]
  },
  {
   "cell_type": "raw",
   "id": "d39ceb94-89d2-4aa3-81a1-d8855e6ba7d1",
   "metadata": {},
   "source": [
    ">> Install/Imports"
   ]
  },
  {
   "cell_type": "code",
   "execution_count": 25,
   "id": "cb2a8d04-8fac-4725-acf0-a2c411c3492c",
   "metadata": {},
   "outputs": [
    {
     "name": "stdout",
     "output_type": "stream",
     "text": [
      "Requirement already satisfied: pip in /Users/professormichel/Documents/GitHub/energy-ros2-cpp-python/.venv/lib/python3.13/site-packages (24.3.1)\n",
      "Requirement already satisfied: pandas in /Users/professormichel/Documents/GitHub/energy-ros2-cpp-python/.venv/lib/python3.13/site-packages (2.2.3)\n",
      "Requirement already satisfied: matplotlib in /Users/professormichel/Documents/GitHub/energy-ros2-cpp-python/.venv/lib/python3.13/site-packages (3.9.2)\n",
      "Requirement already satisfied: seaborn in /Users/professormichel/Documents/GitHub/energy-ros2-cpp-python/.venv/lib/python3.13/site-packages (0.13.2)\n",
      "Requirement already satisfied: numpy>=1.26.0 in /Users/professormichel/Documents/GitHub/energy-ros2-cpp-python/.venv/lib/python3.13/site-packages (from pandas) (2.1.3)\n",
      "Requirement already satisfied: python-dateutil>=2.8.2 in /Users/professormichel/Documents/GitHub/energy-ros2-cpp-python/.venv/lib/python3.13/site-packages (from pandas) (2.9.0.post0)\n",
      "Requirement already satisfied: pytz>=2020.1 in /Users/professormichel/Documents/GitHub/energy-ros2-cpp-python/.venv/lib/python3.13/site-packages (from pandas) (2024.2)\n",
      "Requirement already satisfied: tzdata>=2022.7 in /Users/professormichel/Documents/GitHub/energy-ros2-cpp-python/.venv/lib/python3.13/site-packages (from pandas) (2024.2)\n",
      "Requirement already satisfied: contourpy>=1.0.1 in /Users/professormichel/Documents/GitHub/energy-ros2-cpp-python/.venv/lib/python3.13/site-packages (from matplotlib) (1.3.1)\n",
      "Requirement already satisfied: cycler>=0.10 in /Users/professormichel/Documents/GitHub/energy-ros2-cpp-python/.venv/lib/python3.13/site-packages (from matplotlib) (0.12.1)\n",
      "Requirement already satisfied: fonttools>=4.22.0 in /Users/professormichel/Documents/GitHub/energy-ros2-cpp-python/.venv/lib/python3.13/site-packages (from matplotlib) (4.55.0)\n",
      "Requirement already satisfied: kiwisolver>=1.3.1 in /Users/professormichel/Documents/GitHub/energy-ros2-cpp-python/.venv/lib/python3.13/site-packages (from matplotlib) (1.4.7)\n",
      "Requirement already satisfied: packaging>=20.0 in /Users/professormichel/Documents/GitHub/energy-ros2-cpp-python/.venv/lib/python3.13/site-packages (from matplotlib) (24.2)\n",
      "Requirement already satisfied: pillow>=8 in /Users/professormichel/Documents/GitHub/energy-ros2-cpp-python/.venv/lib/python3.13/site-packages (from matplotlib) (11.0.0)\n",
      "Requirement already satisfied: pyparsing>=2.3.1 in /Users/professormichel/Documents/GitHub/energy-ros2-cpp-python/.venv/lib/python3.13/site-packages (from matplotlib) (3.2.0)\n",
      "Requirement already satisfied: six>=1.5 in /Users/professormichel/Documents/GitHub/energy-ros2-cpp-python/.venv/lib/python3.13/site-packages (from python-dateutil>=2.8.2->pandas) (1.16.0)\n"
     ]
    }
   ],
   "source": [
    "!source ../.venv/bin/activate\n",
    "!../.venv/bin/pip install --upgrade pip\n",
    "!../.venv/bin/pip install pandas matplotlib seaborn"
   ]
  },
  {
   "cell_type": "code",
   "execution_count": 28,
   "id": "b9dd2b34-7f74-47c4-baa3-ce63511c9ccc",
   "metadata": {},
   "outputs": [
    {
     "ename": "ModuleNotFoundError",
     "evalue": "No module named 'matplotlib'",
     "output_type": "error",
     "traceback": [
      "\u001b[0;31m---------------------------------------------------------------------------\u001b[0m",
      "\u001b[0;31mModuleNotFoundError\u001b[0m                       Traceback (most recent call last)",
      "Cell \u001b[0;32mIn[28], line 2\u001b[0m\n\u001b[1;32m      1\u001b[0m \u001b[38;5;28;01mimport\u001b[39;00m \u001b[38;5;21;01mpandas\u001b[39;00m \u001b[38;5;28;01mas\u001b[39;00m \u001b[38;5;21;01mpd\u001b[39;00m\n\u001b[0;32m----> 2\u001b[0m \u001b[38;5;28;01mimport\u001b[39;00m \u001b[38;5;21;01mmatplotlib\u001b[39;00m\u001b[38;5;21;01m.\u001b[39;00m\u001b[38;5;21;01mpyplot\u001b[39;00m \u001b[38;5;28;01mas\u001b[39;00m \u001b[38;5;21;01mplt\u001b[39;00m\n\u001b[1;32m      3\u001b[0m \u001b[38;5;28;01mimport\u001b[39;00m \u001b[38;5;21;01mseaborn\u001b[39;00m \u001b[38;5;28;01mas\u001b[39;00m \u001b[38;5;21;01msns\u001b[39;00m\n\u001b[1;32m      4\u001b[0m \u001b[38;5;28;01mimport\u001b[39;00m \u001b[38;5;21;01mos\u001b[39;00m\n",
      "\u001b[0;31mModuleNotFoundError\u001b[0m: No module named 'matplotlib'"
     ]
    }
   ],
   "source": [
    "import pandas as pd\n",
    "import matplotlib.pyplot as plt\n",
    "import seaborn as sns\n",
    "import os\n",
    "import sys"
   ]
  },
  {
   "cell_type": "raw",
   "id": "12c7aad0-56a1-41f1-8f68-c020416d27f4",
   "metadata": {},
   "source": [
    ">> Single run (multiple times) Python versus C++ / Server and Clients\n",
    "- 0.05 frequency\n",
    "- 1-3 clients"
   ]
  },
  {
   "cell_type": "code",
   "execution_count": 29,
   "id": "92b824d7-4560-4612-8770-e16927f87a05",
   "metadata": {},
   "outputs": [
    {
     "name": "stdout",
     "output_type": "stream",
     "text": [
      "test\n",
      "                 __run_id __done                  ros_package  msg_interval  \\\n",
      "0      run_0_repetition_0   DONE  simple_publisher_subscriber          0.05   \n",
      "1      run_1_repetition_0   DONE  simple_publisher_subscriber          0.05   \n",
      "2      run_2_repetition_0   DONE  simple_publisher_subscriber          0.05   \n",
      "3      run_3_repetition_0   DONE  simple_publisher_subscriber          0.05   \n",
      "4      run_4_repetition_0   DONE  simple_publisher_subscriber          0.05   \n",
      "..                    ...    ...                          ...           ...   \n",
      "475  run_19_repetition_19   TODO  simple_publisher_subscriber          1.00   \n",
      "476  run_20_repetition_19   TODO  simple_publisher_subscriber          1.00   \n",
      "477  run_21_repetition_19   TODO  simple_publisher_subscriber          1.00   \n",
      "478  run_22_repetition_19   TODO  simple_publisher_subscriber          1.00   \n",
      "479  run_23_repetition_19   TODO  simple_publisher_subscriber          1.00   \n",
      "\n",
      "    language  exec_time  num_clients  \n",
      "0         py        180            1  \n",
      "1         py        180            2  \n",
      "2         py        180            3  \n",
      "3        cpp        180            1  \n",
      "4        cpp        180            2  \n",
      "..       ...        ...          ...  \n",
      "475       py        180            2  \n",
      "476       py        180            3  \n",
      "477      cpp        180            1  \n",
      "478      cpp        180            2  \n",
      "479      cpp        180            3  \n",
      "\n",
      "[480 rows x 7 columns]\n"
     ]
    }
   ],
   "source": [
    "prefix=\"../exp_runners/experiments/cpp_py_ros2_pub_sub\"\n",
    "s_folder=\"../exp_runners/experiments/cpp_py_ros2_pub_sub\"\n",
    "d_folder=\"./graphs\"\n",
    "\n",
    "# Load the runtable\n",
    "df = pd.read_csv(f'{s_folder}/run_table.csv')\n",
    "print(\"test\")\n",
    "# runs_data = {}\n",
    "\n",
    "# for run_id in df['__run_id']:\n",
    "#     folder_path = f\"{s_folder}/{run_id}\"\n",
    "#     server_energy_file = os.path.join(folder_path, 'energy-server-*.csv')\n",
    "#     try:\n",
    "#         server_energy_df = pd.read_csv(server_energy_file)\n",
    "#         avg_server_energy_pct = server_energy_df['CPU Power'].mean()\n",
    "#         runs_data[run_id] = avg_server_energy_pct\n",
    "#     except:\n",
    "#         continue\n",
    "\n",
    "# avg_server_energy_df = pd.DataFrame(list(runs_data.items()), columns=['__run_id', 'avg_server_energy_pct'])\n",
    "# df = df.merge(avg_server_energy_df, on='__run_id')\n",
    "# df = df[df[\"msg_interval\"] == 0.05]\n",
    "\n",
    "# grouped = df.groupby(['language', 'num_clients'])\n",
    "\n",
    "# plt.figure()\n",
    "# boxplot_data = []\n",
    "\n",
    "# for group_name, group_data in grouped:\n",
    "#     boxplot_data.append(group_data['avg_server_energy_pct'].values)\n",
    "#     plt.xticks(range(1, len(grouped)+1), [f\"{name[0]}, {name[1]}\" for name, _ in grouped])\n",
    "\n",
    "# plt.figure(figsize=(10, 4))\n",
    "# plt.boxplot(boxplot_data, labels=[f\"{name[0]}, {name[1]}\" for name, _ in grouped])\n",
    "# plt.ylabel(\"Energy Consumption (J)\")\n",
    "# plt.xlabel(\"Language, Clientss\")\n",
    "# plt.xticks(rotation=45)\n",
    "# plt.tight_layout()\n",
    "# plt.savefig(f\"{d_folder}/boxplot_pubsub_energy_0_05.png\", format=\"png\", dpi=300)\n",
    "# plt.show()"
   ]
  },
  {
   "cell_type": "code",
   "execution_count": null,
   "id": "0f5f1f15-e7c3-429b-85eb-7ae578c08f74",
   "metadata": {},
   "outputs": [],
   "source": []
  },
  {
   "cell_type": "code",
   "execution_count": null,
   "id": "ab3318ca-4815-4e6c-9b8c-70a9eecd790c",
   "metadata": {},
   "outputs": [],
   "source": []
  }
 ],
 "metadata": {
  "kernelspec": {
   "display_name": "Python 3 (ipykernel)",
   "language": "python",
   "name": "python3"
  },
  "language_info": {
   "codemirror_mode": {
    "name": "ipython",
    "version": 3
   },
   "file_extension": ".py",
   "mimetype": "text/x-python",
   "name": "python",
   "nbconvert_exporter": "python",
   "pygments_lexer": "ipython3",
   "version": "3.12.7"
  }
 },
 "nbformat": 4,
 "nbformat_minor": 5
}
